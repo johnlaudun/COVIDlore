{
 "cells": [
  {
   "cell_type": "markdown",
   "metadata": {},
   "source": [
    "This notebook documents efforts to read in the ~70,000-line Gab chat text file. Each of the lines we want to read in, look like this:\n",
    "```\n",
    "2020-12-22T20:18:32 @OsmanAbbaker: hi\n",
    "```\n",
    "So a date, followed by a user, then a colon and the text itself, which runs until the end of the line."
   ]
  },
  {
   "cell_type": "code",
   "execution_count": 1,
   "metadata": {},
   "outputs": [],
   "source": [
    "# Our test block for parsing:\n",
    "lines = '''\n",
    "2020-12-22T20:18:32 @OsmanAbbaker: hi\n",
    "2020-12-22T20:18:40 @OsmanAbbaker: how are you\n",
    "2020-12-22T20:19:33 @OsmanAbbaker: my name is osman am from effortless english group i want to ask you somthing please\n",
    "2020-12-22T20:20:42 @OsmanAbbaker: if you dont mind\n",
    "'''\n"
   ]
  },
  {
   "cell_type": "code",
   "execution_count": 11,
   "metadata": {},
   "outputs": [
    {
     "name": "stdout",
     "output_type": "stream",
     "text": [
      "['2020-12-22T20:18:32 @OsmanAbbaker: hi\\n', '2020-12-22T20:18:40 @OsmanAbbaker: how are you\\n', '2020-12-22T20:19:33 @OsmanAbbaker: my name is osman am from effortless english group i want to ask you somthing please\\n', '2020-12-22T20:20:42 @OsmanAbbaker: if you dont mind\\n'] <class 'str'>\n"
     ]
    }
   ],
   "source": [
    "# To open and read a file line by line, the pythonic way is:\n",
    "\n",
    "with open('../gab/chatlogs.txt') as f:\n",
    "    lines = f.readlines()\n",
    "\n",
    "print(lines[5:9], type(lines[0]))\n",
    "    # for index, line in enumerate(f):\n",
    "    #         print(\"Line {}: {}\".format(index[0], line.strip()))"
   ]
  },
  {
   "cell_type": "code",
   "execution_count": 8,
   "metadata": {},
   "outputs": [
    {
     "data": {
      "text/plain": [
       "str"
      ]
     },
     "execution_count": 8,
     "metadata": {},
     "output_type": "execute_result"
    }
   ],
   "source": []
  }
 ],
 "metadata": {
  "interpreter": {
   "hash": "14a02b88778d8fb8b6aeb4ad427a942bc53dfcda9d7e3737237788289e0d2d23"
  },
  "kernelspec": {
   "display_name": "Python 3.8.5 64-bit ('dev': conda)",
   "name": "python3"
  },
  "language_info": {
   "codemirror_mode": {
    "name": "ipython",
    "version": 3
   },
   "file_extension": ".py",
   "mimetype": "text/x-python",
   "name": "python",
   "nbconvert_exporter": "python",
   "pygments_lexer": "ipython3",
   "version": "3.8.5"
  },
  "orig_nbformat": 4
 },
 "nbformat": 4,
 "nbformat_minor": 2
}