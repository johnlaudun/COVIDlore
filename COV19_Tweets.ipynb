{
 "cells": [
  {
   "cell_type": "code",
   "execution_count": 13,
   "source": [
    "import pandas as pd\n"
   ],
   "outputs": [],
   "metadata": {}
  },
  {
   "cell_type": "code",
   "execution_count": 18,
   "source": [
    "# The column scheme for the TweetsCOV19 corpus\n",
    "TC_columns = ['tweetid', 'user', 'timestamp', 'followers', 'friends',\n",
    "            'retweets', 'favorites', 'tweet', 'sentiment', 'mentions',\n",
    "            'hashtags', 'URLs']\n",
    "len(TC_columns)"
   ],
   "outputs": [
    {
     "output_type": "execute_result",
     "data": {
      "text/plain": [
       "12"
      ]
     },
     "metadata": {},
     "execution_count": 18
    }
   ],
   "metadata": {}
  },
  {
   "cell_type": "code",
   "execution_count": 20,
   "source": [
    "# , usecols = columns\n",
    "mayDF = pd.read_csv('TweetsCOV19_052020.tsv', sep='\\t', names = TC_columns)\n",
    "mayDF.shape"
   ],
   "outputs": [
    {
     "output_type": "execute_result",
     "data": {
      "text/plain": [
       "(1912070, 12)"
      ]
     },
     "metadata": {},
     "execution_count": 20
    }
   ],
   "metadata": {}
  },
  {
   "cell_type": "code",
   "execution_count": 21,
   "source": [
    "mayDF.head()"
   ],
   "outputs": [
    {
     "output_type": "execute_result",
     "data": {
      "text/plain": [
       "               tweetid                              user  \\\n",
       "0  1255980348229529601  fa5fd446e778da0acba3504aeab23da5   \n",
       "1  1255981220640546816  547501e9cc84b8148ae1b8bde04157a4   \n",
       "2  1255981244560683008  840ac60dab55f6b212dc02dcbe5dfbd6   \n",
       "3  1255981472285986816  37c68a001198b5efd4a21e2b68a0c9bc   \n",
       "4  1255981581354905600  8c3620bdfb9d2a1acfdf2412c9b34e06   \n",
       "\n",
       "                        timestamp  followers  friends  retweets  favorites  \\\n",
       "0  Thu Apr 30 22:00:24 +0000 2020      29697    24040         0          0   \n",
       "1  Thu Apr 30 22:03:52 +0000 2020        799     1278         4          6   \n",
       "2  Thu Apr 30 22:03:58 +0000 2020        586      378         1          2   \n",
       "3  Thu Apr 30 22:04:52 +0000 2020        237      168         0          0   \n",
       "4  Thu Apr 30 22:05:18 +0000 2020        423      427         0          0   \n",
       "\n",
       "                                               tweet sentiment mentions  \\\n",
       "0                                              null;      1 -1    null;   \n",
       "1                                              null;      1 -1    null;   \n",
       "2                                              null;      2 -1    null;   \n",
       "3                                              null;      1 -1    null;   \n",
       "4  i hate u:I_Hate_U:-1.8786140035817729;quaranti...      1 -4    null;   \n",
       "\n",
       "                           hashtags  \\\n",
       "0  Opinion Next2blowafrica thoughts   \n",
       "1                             null;   \n",
       "2                             null;   \n",
       "3                             null;   \n",
       "4                             null;   \n",
       "\n",
       "                                                URLs  \n",
       "0                                              null;  \n",
       "1                                              null;  \n",
       "2  https://www.bbc.com/news/uk-england-beds-bucks...  \n",
       "3  https://lockdownsceptics.org/2020/04/30/latest...  \n",
       "4                                              null;  "
      ],
      "text/html": [
       "<div>\n",
       "<style scoped>\n",
       "    .dataframe tbody tr th:only-of-type {\n",
       "        vertical-align: middle;\n",
       "    }\n",
       "\n",
       "    .dataframe tbody tr th {\n",
       "        vertical-align: top;\n",
       "    }\n",
       "\n",
       "    .dataframe thead th {\n",
       "        text-align: right;\n",
       "    }\n",
       "</style>\n",
       "<table border=\"1\" class=\"dataframe\">\n",
       "  <thead>\n",
       "    <tr style=\"text-align: right;\">\n",
       "      <th></th>\n",
       "      <th>tweetid</th>\n",
       "      <th>user</th>\n",
       "      <th>timestamp</th>\n",
       "      <th>followers</th>\n",
       "      <th>friends</th>\n",
       "      <th>retweets</th>\n",
       "      <th>favorites</th>\n",
       "      <th>tweet</th>\n",
       "      <th>sentiment</th>\n",
       "      <th>mentions</th>\n",
       "      <th>hashtags</th>\n",
       "      <th>URLs</th>\n",
       "    </tr>\n",
       "  </thead>\n",
       "  <tbody>\n",
       "    <tr>\n",
       "      <th>0</th>\n",
       "      <td>1255980348229529601</td>\n",
       "      <td>fa5fd446e778da0acba3504aeab23da5</td>\n",
       "      <td>Thu Apr 30 22:00:24 +0000 2020</td>\n",
       "      <td>29697</td>\n",
       "      <td>24040</td>\n",
       "      <td>0</td>\n",
       "      <td>0</td>\n",
       "      <td>null;</td>\n",
       "      <td>1 -1</td>\n",
       "      <td>null;</td>\n",
       "      <td>Opinion Next2blowafrica thoughts</td>\n",
       "      <td>null;</td>\n",
       "    </tr>\n",
       "    <tr>\n",
       "      <th>1</th>\n",
       "      <td>1255981220640546816</td>\n",
       "      <td>547501e9cc84b8148ae1b8bde04157a4</td>\n",
       "      <td>Thu Apr 30 22:03:52 +0000 2020</td>\n",
       "      <td>799</td>\n",
       "      <td>1278</td>\n",
       "      <td>4</td>\n",
       "      <td>6</td>\n",
       "      <td>null;</td>\n",
       "      <td>1 -1</td>\n",
       "      <td>null;</td>\n",
       "      <td>null;</td>\n",
       "      <td>null;</td>\n",
       "    </tr>\n",
       "    <tr>\n",
       "      <th>2</th>\n",
       "      <td>1255981244560683008</td>\n",
       "      <td>840ac60dab55f6b212dc02dcbe5dfbd6</td>\n",
       "      <td>Thu Apr 30 22:03:58 +0000 2020</td>\n",
       "      <td>586</td>\n",
       "      <td>378</td>\n",
       "      <td>1</td>\n",
       "      <td>2</td>\n",
       "      <td>null;</td>\n",
       "      <td>2 -1</td>\n",
       "      <td>null;</td>\n",
       "      <td>null;</td>\n",
       "      <td>https://www.bbc.com/news/uk-england-beds-bucks...</td>\n",
       "    </tr>\n",
       "    <tr>\n",
       "      <th>3</th>\n",
       "      <td>1255981472285986816</td>\n",
       "      <td>37c68a001198b5efd4a21e2b68a0c9bc</td>\n",
       "      <td>Thu Apr 30 22:04:52 +0000 2020</td>\n",
       "      <td>237</td>\n",
       "      <td>168</td>\n",
       "      <td>0</td>\n",
       "      <td>0</td>\n",
       "      <td>null;</td>\n",
       "      <td>1 -1</td>\n",
       "      <td>null;</td>\n",
       "      <td>null;</td>\n",
       "      <td>https://lockdownsceptics.org/2020/04/30/latest...</td>\n",
       "    </tr>\n",
       "    <tr>\n",
       "      <th>4</th>\n",
       "      <td>1255981581354905600</td>\n",
       "      <td>8c3620bdfb9d2a1acfdf2412c9b34e06</td>\n",
       "      <td>Thu Apr 30 22:05:18 +0000 2020</td>\n",
       "      <td>423</td>\n",
       "      <td>427</td>\n",
       "      <td>0</td>\n",
       "      <td>0</td>\n",
       "      <td>i hate u:I_Hate_U:-1.8786140035817729;quaranti...</td>\n",
       "      <td>1 -4</td>\n",
       "      <td>null;</td>\n",
       "      <td>null;</td>\n",
       "      <td>null;</td>\n",
       "    </tr>\n",
       "  </tbody>\n",
       "</table>\n",
       "</div>"
      ]
     },
     "metadata": {},
     "execution_count": 21
    }
   ],
   "metadata": {}
  },
  {
   "cell_type": "markdown",
   "source": [
    "Okay, so with the tweets loaded, let's take a look at the actual texts involved."
   ],
   "metadata": {}
  },
  {
   "cell_type": "code",
   "execution_count": 22,
   "source": [
    "texts = mayDF.tweet.tolist()"
   ],
   "outputs": [],
   "metadata": {}
  },
  {
   "cell_type": "markdown",
   "source": [
    "There's a lot of stuff packed into a single tweet cell. (*Lines broken at semi-colons for readability.*)\n",
    "\n",
    "```\n",
    "texts[17:19]\n",
    "\n",
    "'dartford:Dartford_F.C.:-1.7465831715526192;\n",
    " windows:Microsoft_Windows:-2.7904184894171227;\n",
    " balconies:Balcony:-2.930512226015129;',\n",
    "\n",
    "'breaking news:Breaking_news:-2.635676665393473;\n",
    " democrazy:Democrazy:-2.741076674919324;']\n",
    "```\n",
    "\n",
    "What have they done? It looks like they've actually gutted the tweet. According to the documentation:\n",
    "\n",
    "> For each entity, we aggregated the original text, the annotated entity and the produced score from FEL library. Each entity is separated from another entity by char \";\". Also, each entity is separated by char \":\" in order to store \"original_text:annotated_entity:score;\". If FEL did not find any entities, we have stored \"null;\".\n",
    "\n",
    "I would like to see an original tweet and then the transformed version to be clear on what's happened. For right now, I am going to print off a bunch of tweets to see if looking at them on paper will make them make sense."
   ],
   "metadata": {}
  },
  {
   "cell_type": "code",
   "execution_count": 48,
   "source": [
    "# a lot of the items are simply `null;` \n",
    "# the first task is to remove those:\n",
    "filtered = [item for item in texts[0:100] if item != 'null;']\n",
    "\n",
    "# then we save the list to a file\n",
    "with open('tweets.txt', 'w') as f:\n",
    "    f.write('\\n\\n'.join(filtered))"
   ],
   "outputs": [],
   "metadata": {}
  },
  {
   "cell_type": "code",
   "execution_count": 46,
   "source": [],
   "outputs": [],
   "metadata": {}
  }
 ],
 "metadata": {
  "orig_nbformat": 4,
  "language_info": {
   "name": "python",
   "version": "3.8.5",
   "mimetype": "text/x-python",
   "codemirror_mode": {
    "name": "ipython",
    "version": 3
   },
   "pygments_lexer": "ipython3",
   "nbconvert_exporter": "python",
   "file_extension": ".py"
  },
  "kernelspec": {
   "name": "python3",
   "display_name": "Python 3.8.5 64-bit ('dev': conda)"
  },
  "interpreter": {
   "hash": "14a02b88778d8fb8b6aeb4ad427a942bc53dfcda9d7e3737237788289e0d2d23"
  }
 },
 "nbformat": 4,
 "nbformat_minor": 2
}