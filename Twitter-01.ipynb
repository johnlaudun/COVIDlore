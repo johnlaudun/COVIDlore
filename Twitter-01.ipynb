{
 "cells": [
  {
   "cell_type": "markdown",
   "metadata": {},
   "source": [
    "# Understanding the Twitter API"
   ]
  },
  {
   "cell_type": "markdown",
   "metadata": {},
   "source": [
    "When in doubt, check the official documentation available at the [Developer Portal](https://developer.twitter.com/en/portal/products/academic).\n",
    "\n",
    "_Mining the Social Web_ uses the `twitter` library, which has a different authentication setup than the current Twitter documentation suggests.\n",
    "\n",
    "The standard twitter output is prolix, so until I figure out how to get more exact responses, or to parse those responses before they print to STDOUT, there's a fair amount of scrolling to do."
   ]
  },
  {
   "cell_type": "markdown",
   "metadata": {},
   "source": [
    "## Using `twitter`"
   ]
  },
  {
   "cell_type": "markdown",
   "metadata": {},
   "source": [
    "I am going to see if the `twitter` PyPi page offers some better suggestions:"
   ]
  },
  {
   "cell_type": "code",
   "execution_count": 19,
   "metadata": {},
   "outputs": [],
   "source": [
    "import twitter\n",
    "import configparser\n",
    "\n",
    "parser = configparser.RawConfigParser()   \n",
    "parser.read_file(open(r'../twitKeys.py'))\n",
    "apikey = parser.get('twitkeys', 'API_Key')\n",
    "apisec = parser.get('twitkeys', 'API_Secret')\n",
    "token = parser.get('twitkeys', 'Access_token')\n",
    "token_sec = parser.get('twitkeys', 'Access_secret')\n",
    "\n",
    "t = twitter.Twitter(auth=OAuth(token, token_sec, apikey, apisec))\n"
   ]
  },
  {
   "cell_type": "code",
   "execution_count": 23,
   "metadata": {},
   "outputs": [
    {
     "name": "stdout",
     "output_type": "stream",
     "text": [
      "<twitter.api.Twitter object at 0x7fc0e07a5610>\n"
     ]
    }
   ],
   "source": [
    "auth = twitter.oauth.OAuth(token, token_sec, apikey, apisec)\n",
    "twitter_api = twitter.Twitter(auth=auth)\n",
    "print(twitter_api)"
   ]
  },
  {
   "cell_type": "code",
   "execution_count": null,
   "metadata": {},
   "outputs": [],
   "source": [
    "# Once you have a connection, you can do simple things like see your own timeline:\n",
    "t.statuses.home_timeline()"
   ]
  },
  {
   "cell_type": "code",
   "execution_count": 25,
   "metadata": {},
   "outputs": [],
   "source": [
    "# The Yahoo! Where On Earth ID for the entire world is 1.\n",
    "WORLD_WOE_ID = 1 \n",
    "US_WOE_ID = 23424977\n",
    "\n",
    "# Prefix ID with the underscore for query string parameterization. \n",
    "# Without the underscore, the twitter package appends the ID value \n",
    "# to the URL itself as a special case keyword argument.\n",
    "world_trends = twitter_api.trends.place(_id=WORLD_WOE_ID) \n",
    "us_trends = twitter_api.trends.place(_id=US_WOE_ID)"
   ]
  },
  {
   "cell_type": "code",
   "execution_count": 26,
   "metadata": {},
   "outputs": [
    {
     "name": "stdout",
     "output_type": "stream",
     "text": [
      "{'trends': [{'name': '#halaaşığım', 'url': 'http://twitter.com/search?q=%23halaa%C5%9F%C4%B1%C4%9F%C4%B1m', 'promoted_content': None, 'query': '%23halaa%C5%9F%C4%B1%C4%9F%C4%B1m', 'tweet_volume': 471890}, {'name': '#TURWAL', 'url': 'http://twitter.com/search?q=%23TURWAL', 'promoted_content': None, 'query': '%23TURWAL', 'tweet_volume': 10903}, {'name': 'Ramsey', 'url': 'http://twitter.com/search?q=Ramsey', 'promoted_content': None, 'query': 'Ramsey', 'tweet_volume': 14412}, {'name': 'Witzel', 'url': 'http://twitter.com/search?q=Witzel', 'promoted_content': None, 'query': 'Witzel', 'tweet_volume': 77103}, {'name': 'Putin', 'url': 'http://twitter.com/search?q=Putin', 'promoted_content': None, 'query': 'Putin', 'tweet_volume': 396759}, {'name': '#二宮和也誕生祭', 'url': 'http://twitter.com/search?q=%23%E4%BA%8C%E5%AE%AE%E5%92%8C%E4%B9%9F%E8%AA%95%E7%94%9F%E7%A5%AD', 'promoted_content': None, 'query': '%23%E4%BA%8C%E5%AE%AE%E5%92%8C%E4%B9%9F%E8%AA%95%E7%94%9F%E7%A5%AD', 'tweet_volume': 18560}, {'name': '#DisculpateMikeSilvero', 'url': 'http://twitter.com/search?q=%23DisculpateMikeSilvero', 'promoted_content': None, 'query': '%23DisculpateMikeSilvero', 'tweet_volume': 155735}, {'name': '#CPIdaCovid', 'url': 'http://twitter.com/search?q=%23CPIdaCovid', 'promoted_content': None, 'query': '%23CPIdaCovid', 'tweet_volume': 32824}, {'name': 'Córdoba', 'url': 'http://twitter.com/search?q=C%C3%B3rdoba', 'promoted_content': None, 'query': 'C%C3%B3rdoba', 'tweet_volume': 76489}, {'name': 'Flávio Bolsonaro', 'url': 'http://twitter.com/search?q=%22Fl%C3%A1vio+Bolsonaro%22', 'promoted_content': None, 'query': '%22Fl%C3%A1vio+Bolsonaro%22', 'tweet_volume': 18571}, {'name': 'Ozan', 'url': 'http://twitter.com/search?q=Ozan', 'promoted_content': None, 'query': 'Ozan', 'tweet_volume': 13456}, {'name': 'Tyler', 'url': 'http://twitter.com/search?q=Tyler', 'promoted_content': None, 'query': 'Tyler', 'tweet_volume': 53840}, {'name': 'あなたの性欲', 'url': 'http://twitter.com/search?q=%E3%81%82%E3%81%AA%E3%81%9F%E3%81%AE%E6%80%A7%E6%AC%B2', 'promoted_content': None, 'query': '%E3%81%82%E3%81%AA%E3%81%9F%E3%81%AE%E6%80%A7%E6%AC%B2', 'tweet_volume': None}, {'name': 'Marielle', 'url': 'http://twitter.com/search?q=Marielle', 'promoted_content': None, 'query': 'Marielle', 'tweet_volume': 18676}, {'name': '隣席の男子', 'url': 'http://twitter.com/search?q=%E9%9A%A3%E5%B8%AD%E3%81%AE%E7%94%B7%E5%AD%90', 'promoted_content': None, 'query': '%E9%9A%A3%E5%B8%AD%E3%81%AE%E7%94%B7%E5%AD%90', 'tweet_volume': None}, {'name': 'Kenan', 'url': 'http://twitter.com/search?q=Kenan', 'promoted_content': None, 'query': 'Kenan', 'tweet_volume': 13111}, {'name': 'EXIGIMOS UNA DISCULPA', 'url': 'http://twitter.com/search?q=%22EXIGIMOS+UNA+DISCULPA%22', 'promoted_content': None, 'query': '%22EXIGIMOS+UNA+DISCULPA%22', 'tweet_volume': 45760}, {'name': '憧れの先輩', 'url': 'http://twitter.com/search?q=%E6%86%A7%E3%82%8C%E3%81%AE%E5%85%88%E8%BC%A9', 'promoted_content': None, 'query': '%E6%86%A7%E3%82%8C%E3%81%AE%E5%85%88%E8%BC%A9', 'tweet_volume': None}, {'name': '喫茶店の店長', 'url': 'http://twitter.com/search?q=%E5%96%AB%E8%8C%B6%E5%BA%97%E3%81%AE%E5%BA%97%E9%95%B7', 'promoted_content': None, 'query': '%E5%96%AB%E8%8C%B6%E5%BA%97%E3%81%AE%E5%BA%97%E9%95%B7', 'tweet_volume': None}, {'name': 'Flavinho', 'url': 'http://twitter.com/search?q=Flavinho', 'promoted_content': None, 'query': 'Flavinho', 'tweet_volume': None}, {'name': '義理の兄弟', 'url': 'http://twitter.com/search?q=%E7%BE%A9%E7%90%86%E3%81%AE%E5%85%84%E5%BC%9F', 'promoted_content': None, 'query': '%E7%BE%A9%E7%90%86%E3%81%AE%E5%85%84%E5%BC%9F', 'tweet_volume': None}, {'name': '攻略対象', 'url': 'http://twitter.com/search?q=%E6%94%BB%E7%95%A5%E5%AF%BE%E8%B1%A1', 'promoted_content': None, 'query': '%E6%94%BB%E7%95%A5%E5%AF%BE%E8%B1%A1', 'tweet_volume': None}, {'name': '喫茶店のバイト', 'url': 'http://twitter.com/search?q=%E5%96%AB%E8%8C%B6%E5%BA%97%E3%81%AE%E3%83%90%E3%82%A4%E3%83%88', 'promoted_content': None, 'query': '%E5%96%AB%E8%8C%B6%E5%BA%97%E3%81%AE%E3%83%90%E3%82%A4%E3%83%88', 'tweet_volume': None}, {'name': '隠しキャラ', 'url': 'http://twitter.com/search?q=%E9%9A%A0%E3%81%97%E3%82%AD%E3%83%A3%E3%83%A9', 'promoted_content': None, 'query': '%E9%9A%A0%E3%81%97%E3%82%AD%E3%83%A3%E3%83%A9', 'tweet_volume': None}, {'name': 'Scott Brooks', 'url': 'http://twitter.com/search?q=%22Scott+Brooks%22', 'promoted_content': None, 'query': '%22Scott+Brooks%22', 'tweet_volume': None}, {'name': 'jay park', 'url': 'http://twitter.com/search?q=%22jay+park%22', 'promoted_content': None, 'query': '%22jay+park%22', 'tweet_volume': 22396}, {'name': 'Kawhi', 'url': 'http://twitter.com/search?q=Kawhi', 'promoted_content': None, 'query': 'Kawhi', 'tweet_volume': 66596}, {'name': 'Stan Van Gundy', 'url': 'http://twitter.com/search?q=%22Stan+Van+Gundy%22', 'promoted_content': None, 'query': '%22Stan+Van+Gundy%22', 'tweet_volume': None}, {'name': '風間ぽん', 'url': 'http://twitter.com/search?q=%E9%A2%A8%E9%96%93%E3%81%BD%E3%82%93', 'promoted_content': None, 'query': '%E9%A2%A8%E9%96%93%E3%81%BD%E3%82%93', 'tweet_volume': None}, {'name': 'READY TO LOVE D1', 'url': 'http://twitter.com/search?q=%22READY+TO+LOVE+D1%22', 'promoted_content': None, 'query': '%22READY+TO+LOVE+D1%22', 'tweet_volume': 23416}, {'name': 'Ben White', 'url': 'http://twitter.com/search?q=%22Ben+White%22', 'promoted_content': None, 'query': '%22Ben+White%22', 'tweet_volume': None}, {'name': 'Juneteenth', 'url': 'http://twitter.com/search?q=Juneteenth', 'promoted_content': None, 'query': 'Juneteenth', 'tweet_volume': 182181}, {'name': '二宮くん', 'url': 'http://twitter.com/search?q=%E4%BA%8C%E5%AE%AE%E3%81%8F%E3%82%93', 'promoted_content': None, 'query': '%E4%BA%8C%E5%AE%AE%E3%81%8F%E3%82%93', 'tweet_volume': None}, {'name': 'Pelicans', 'url': 'http://twitter.com/search?q=Pelicans', 'promoted_content': None, 'query': 'Pelicans', 'tweet_volume': 11405}, {'name': 'Galler', 'url': 'http://twitter.com/search?q=Galler', 'promoted_content': None, 'query': 'Galler', 'tweet_volume': 28986}, {'name': 'Loki', 'url': 'http://twitter.com/search?q=Loki', 'promoted_content': None, 'query': 'Loki', 'tweet_volume': 336831}, {'name': 'jeonghan', 'url': 'http://twitter.com/search?q=jeonghan', 'promoted_content': None, 'query': 'jeonghan', 'tweet_volume': 74521}, {'name': 'Tupac', 'url': 'http://twitter.com/search?q=Tupac', 'promoted_content': None, 'query': 'Tupac', 'tweet_volume': 43690}, {'name': 'iPhone 13', 'url': 'http://twitter.com/search?q=%22iPhone+13%22', 'promoted_content': None, 'query': '%22iPhone+13%22', 'tweet_volume': None}, {'name': 'Sushant An Inspiration', 'url': 'http://twitter.com/search?q=%22Sushant+An+Inspiration%22', 'promoted_content': None, 'query': '%22Sushant+An+Inspiration%22', 'tweet_volume': 28612}, {'name': '馬用AV', 'url': 'http://twitter.com/search?q=%E9%A6%AC%E7%94%A8AV', 'promoted_content': None, 'query': '%E9%A6%AC%E7%94%A8AV', 'tweet_volume': None}, {'name': 'Alpine', 'url': 'http://twitter.com/search?q=Alpine', 'promoted_content': None, 'query': 'Alpine', 'tweet_volume': None}, {'name': 'Ocon', 'url': 'http://twitter.com/search?q=Ocon', 'promoted_content': None, 'query': 'Ocon', 'tweet_volume': None}, {'name': 'Plaza de Mayo', 'url': 'http://twitter.com/search?q=%22Plaza+de+Mayo%22', 'promoted_content': None, 'query': '%22Plaza+de+Mayo%22', 'tweet_volume': 19188}, {'name': 'ニノちゃん', 'url': 'http://twitter.com/search?q=%E3%83%8B%E3%83%8E%E3%81%A1%E3%82%83%E3%82%93', 'promoted_content': None, 'query': '%E3%83%8B%E3%83%8E%E3%81%A1%E3%82%83%E3%82%93', 'tweet_volume': None}, {'name': 'ちゃんねる生配信', 'url': 'http://twitter.com/search?q=%E3%81%A1%E3%82%83%E3%82%93%E3%81%AD%E3%82%8B%E7%94%9F%E9%85%8D%E4%BF%A1', 'promoted_content': None, 'query': '%E3%81%A1%E3%82%83%E3%82%93%E3%81%AD%E3%82%8B%E7%94%9F%E9%85%8D%E4%BF%A1', 'tweet_volume': None}, {'name': 'cheol', 'url': 'http://twitter.com/search?q=cheol', 'promoted_content': None, 'query': 'cheol', 'tweet_volume': 32386}, {'name': 'Gabas', 'url': 'http://twitter.com/search?q=Gabas', 'promoted_content': None, 'query': 'Gabas', 'tweet_volume': 42482}, {'name': '#DisculpateABCCOLOR', 'url': 'http://twitter.com/search?q=%23DisculpateABCCOLOR', 'promoted_content': None, 'query': '%23DisculpateABCCOLOR', 'tweet_volume': 283549}, {'name': '#200DaysWithENHYPEN', 'url': 'http://twitter.com/search?q=%23200DaysWithENHYPEN', 'promoted_content': None, 'query': '%23200DaysWithENHYPEN', 'tweet_volume': 71054}], 'as_of': '2021-06-16T16:29:31Z', 'created_at': '2021-06-13T14:49:31Z', 'locations': [{'name': 'Worldwide', 'woeid': 1}]}\n"
     ]
    }
   ],
   "source": [
    "print(world_trends)\n",
    "# print('\\n======\\n') \n",
    "# print(us_trends)"
   ]
  },
  {
   "cell_type": "code",
   "execution_count": 27,
   "metadata": {},
   "outputs": [
    {
     "name": "stdout",
     "output_type": "stream",
     "text": [
      "[\n",
      " {\n",
      "  \"trends\": [\n",
      "   {\n",
      "    \"name\": \"#halaa\\u015f\\u0131\\u011f\\u0131m\",\n",
      "    \"url\": \"http://twitter.com/search?q=%23halaa%C5%9F%C4%B1%C4%9F%C4%B1m\",\n",
      "    \"promoted_content\": null,\n",
      "    \"query\": \"%23halaa%C5%9F%C4%B1%C4%9F%C4%B1m\",\n",
      "    \"tweet_volume\": 471890\n",
      "   },\n",
      "   {\n",
      "    \"name\": \"#TURWAL\",\n",
      "    \"url\": \"http://twitter.com/search?q=%23TURWAL\",\n",
      "    \"promoted_content\": null,\n",
      "    \"query\": \"%23TURWAL\",\n",
      "    \"tweet_volume\": 10903\n",
      "   },\n",
      "   {\n",
      "    \"name\": \"Ramsey\",\n",
      "    \"url\": \"http://twitter.com/search?q=Ramsey\",\n",
      "    \"promoted_content\": null,\n",
      "    \"query\": \"Ramsey\",\n",
      "    \"tweet_volume\": 14412\n",
      "   },\n",
      "   {\n",
      "    \"name\": \"Witzel\",\n",
      "    \"url\": \"http://twitter.com/search?q=Witzel\",\n",
      "    \"promoted_content\": null,\n",
      "    \"query\": \"Witzel\",\n",
      "    \"tweet_volume\": 77103\n",
      "   },\n",
      "   {\n",
      "    \"name\": \"Putin\",\n",
      "    \"url\": \"http://twitter.com/search?q=Putin\",\n",
      "    \"promoted_content\": null,\n",
      "    \"query\": \"Putin\",\n",
      "    \"tweet_volume\": 396759\n",
      "   },\n",
      "   {\n",
      "    \"name\": \"#\\u4e8c\\u5bae\\u548c\\u4e5f\\u8a95\\u751f\\u796d\",\n",
      "    \"url\": \"http://twitter.com/search?q=%23%E4%BA%8C%E5%AE%AE%E5%92%8C%E4%B9%9F%E8%AA%95%E7%94%9F%E7%A5%AD\",\n",
      "    \"promoted_content\": null,\n",
      "    \"query\": \"%23%E4%BA%8C%E5%AE%AE%E5%92%8C%E4%B9%9F%E8%AA%95%E7%94%9F%E7%A5%AD\",\n",
      "    \"tweet_volume\": 18560\n",
      "   },\n",
      "   {\n",
      "    \"name\": \"#DisculpateMikeSilvero\",\n",
      "    \"url\": \"http://twitter.com/search?q=%23DisculpateMikeSilvero\",\n",
      "    \"promoted_content\": null,\n",
      "    \"query\": \"%23DisculpateMikeSilvero\",\n",
      "    \"tweet_volume\": 155735\n",
      "   },\n",
      "   {\n",
      "    \"name\": \"#CPIdaCovid\",\n",
      "    \"url\": \"http://twitter.com/search?q=%23CPIdaCovid\",\n",
      "    \"promoted_content\": null,\n",
      "    \"query\": \"%23CPIdaCovid\",\n",
      "    \"tweet_volume\": 32824\n",
      "   },\n",
      "   {\n",
      "    \"name\": \"C\\u00f3rdoba\",\n",
      "    \"url\": \"http://twitter.com/search?q=C%C3%B3rdoba\",\n",
      "    \"promoted_content\": null,\n",
      "    \"query\": \"C%C3%B3rdoba\",\n",
      "    \"tweet_volume\": 76489\n",
      "   },\n",
      "   {\n",
      "    \"name\": \"Fl\\u00e1vio Bolsonaro\",\n",
      "    \"url\": \"http://twitter.com/search?q=%22Fl%C3%A1vio+Bolsonaro%22\",\n",
      "    \"promoted_content\": null,\n",
      "    \"query\": \"%22Fl%C3%A1vio+Bolsonaro%22\",\n",
      "    \"tweet_volume\": 18571\n",
      "   },\n",
      "   {\n",
      "    \"name\": \"Ozan\",\n",
      "    \"url\": \"http://twitter.com/search?q=Ozan\",\n",
      "    \"promoted_content\": null,\n",
      "    \"query\": \"Ozan\",\n",
      "    \"tweet_volume\": 13456\n",
      "   },\n",
      "   {\n",
      "    \"name\": \"Tyler\",\n",
      "    \"url\": \"http://twitter.com/search?q=Tyler\",\n",
      "    \"promoted_content\": null,\n",
      "    \"query\": \"Tyler\",\n",
      "    \"tweet_volume\": 53840\n",
      "   },\n",
      "   {\n",
      "    \"name\": \"\\u3042\\u306a\\u305f\\u306e\\u6027\\u6b32\",\n",
      "    \"url\": \"http://twitter.com/search?q=%E3%81%82%E3%81%AA%E3%81%9F%E3%81%AE%E6%80%A7%E6%AC%B2\",\n",
      "    \"promoted_content\": null,\n",
      "    \"query\": \"%E3%81%82%E3%81%AA%E3%81%9F%E3%81%AE%E6%80%A7%E6%AC%B2\",\n",
      "    \"tweet_volume\": null\n",
      "   },\n",
      "   {\n",
      "    \"name\": \"Marielle\",\n",
      "    \"url\": \"http://twitter.com/search?q=Marielle\",\n",
      "    \"promoted_content\": null,\n",
      "    \"query\": \"Marielle\",\n",
      "    \"tweet_volume\": 18676\n",
      "   },\n",
      "   {\n",
      "    \"name\": \"\\u96a3\\u5e2d\\u306e\\u7537\\u5b50\",\n",
      "    \"url\": \"http://twitter.com/search?q=%E9%9A%A3%E5%B8%AD%E3%81%AE%E7%94%B7%E5%AD%90\",\n",
      "    \"promoted_content\": null,\n",
      "    \"query\": \"%E9%9A%A3%E5%B8%AD%E3%81%AE%E7%94%B7%E5%AD%90\",\n",
      "    \"tweet_volume\": null\n",
      "   },\n",
      "   {\n",
      "    \"name\": \"Kenan\",\n",
      "    \"url\": \"http://twitter.com/search?q=Kenan\",\n",
      "    \"promoted_content\": null,\n",
      "    \"query\": \"Kenan\",\n",
      "    \"tweet_volume\": 13111\n",
      "   },\n",
      "   {\n",
      "    \"name\": \"EXIGIMOS UNA DISCULPA\",\n",
      "    \"url\": \"http://twitter.com/search?q=%22EXIGIMOS+UNA+DISCULPA%22\",\n",
      "    \"promoted_content\": null,\n",
      "    \"query\": \"%22EXIGIMOS+UNA+DISCULPA%22\",\n",
      "    \"tweet_volume\": 45760\n",
      "   },\n",
      "   {\n",
      "    \"name\": \"\\u61a7\\u308c\\u306e\\u5148\\u8f29\",\n",
      "    \"url\": \"http://twitter.com/search?q=%E6%86%A7%E3%82%8C%E3%81%AE%E5%85%88%E8%BC%A9\",\n",
      "    \"promoted_content\": null,\n",
      "    \"query\": \"%E6%86%A7%E3%82%8C%E3%81%AE%E5%85%88%E8%BC%A9\",\n",
      "    \"tweet_volume\": null\n",
      "   },\n",
      "   {\n",
      "    \"name\": \"\\u55ab\\u8336\\u5e97\\u306e\\u5e97\\u9577\",\n",
      "    \"url\": \"http://twitter.com/search?q=%E5%96%AB%E8%8C%B6%E5%BA%97%E3%81%AE%E5%BA%97%E9%95%B7\",\n",
      "    \"promoted_content\": null,\n",
      "    \"query\": \"%E5%96%AB%E8%8C%B6%E5%BA%97%E3%81%AE%E5%BA%97%E9%95%B7\",\n",
      "    \"tweet_volume\": null\n",
      "   },\n",
      "   {\n",
      "    \"name\": \"Flavinho\",\n",
      "    \"url\": \"http://twitter.com/search?q=Flavinho\",\n",
      "    \"promoted_content\": null,\n",
      "    \"query\": \"Flavinho\",\n",
      "    \"tweet_volume\": null\n",
      "   },\n",
      "   {\n",
      "    \"name\": \"\\u7fa9\\u7406\\u306e\\u5144\\u5f1f\",\n",
      "    \"url\": \"http://twitter.com/search?q=%E7%BE%A9%E7%90%86%E3%81%AE%E5%85%84%E5%BC%9F\",\n",
      "    \"promoted_content\": null,\n",
      "    \"query\": \"%E7%BE%A9%E7%90%86%E3%81%AE%E5%85%84%E5%BC%9F\",\n",
      "    \"tweet_volume\": null\n",
      "   },\n",
      "   {\n",
      "    \"name\": \"\\u653b\\u7565\\u5bfe\\u8c61\",\n",
      "    \"url\": \"http://twitter.com/search?q=%E6%94%BB%E7%95%A5%E5%AF%BE%E8%B1%A1\",\n",
      "    \"promoted_content\": null,\n",
      "    \"query\": \"%E6%94%BB%E7%95%A5%E5%AF%BE%E8%B1%A1\",\n",
      "    \"tweet_volume\": null\n",
      "   },\n",
      "   {\n",
      "    \"name\": \"\\u55ab\\u8336\\u5e97\\u306e\\u30d0\\u30a4\\u30c8\",\n",
      "    \"url\": \"http://twitter.com/search?q=%E5%96%AB%E8%8C%B6%E5%BA%97%E3%81%AE%E3%83%90%E3%82%A4%E3%83%88\",\n",
      "    \"promoted_content\": null,\n",
      "    \"query\": \"%E5%96%AB%E8%8C%B6%E5%BA%97%E3%81%AE%E3%83%90%E3%82%A4%E3%83%88\",\n",
      "    \"tweet_volume\": null\n",
      "   },\n",
      "   {\n",
      "    \"name\": \"\\u96a0\\u3057\\u30ad\\u30e3\\u30e9\",\n",
      "    \"url\": \"http://twitter.com/search?q=%E9%9A%A0%E3%81%97%E3%82%AD%E3%83%A3%E3%83%A9\",\n",
      "    \"promoted_content\": null,\n",
      "    \"query\": \"%E9%9A%A0%E3%81%97%E3%82%AD%E3%83%A3%E3%83%A9\",\n",
      "    \"tweet_volume\": null\n",
      "   },\n",
      "   {\n",
      "    \"name\": \"Scott Brooks\",\n",
      "    \"url\": \"http://twitter.com/search?q=%22Scott+Brooks%22\",\n",
      "    \"promoted_content\": null,\n",
      "    \"query\": \"%22Scott+Brooks%22\",\n",
      "    \"tweet_volume\": null\n",
      "   },\n",
      "   {\n",
      "    \"name\": \"jay park\",\n",
      "    \"url\": \"http://twitter.com/search?q=%22jay+park%22\",\n",
      "    \"promoted_content\": null,\n",
      "    \"query\": \"%22jay+park%22\",\n",
      "    \"tweet_volume\": 22396\n",
      "   },\n",
      "   {\n",
      "    \"name\": \"Kawhi\",\n",
      "    \"url\": \"http://twitter.com/search?q=Kawhi\",\n",
      "    \"promoted_content\": null,\n",
      "    \"query\": \"Kawhi\",\n",
      "    \"tweet_volume\": 66596\n",
      "   },\n",
      "   {\n",
      "    \"name\": \"Stan Van Gundy\",\n",
      "    \"url\": \"http://twitter.com/search?q=%22Stan+Van+Gundy%22\",\n",
      "    \"promoted_content\": null,\n",
      "    \"query\": \"%22Stan+Van+Gundy%22\",\n",
      "    \"tweet_volume\": null\n",
      "   },\n",
      "   {\n",
      "    \"name\": \"\\u98a8\\u9593\\u307d\\u3093\",\n",
      "    \"url\": \"http://twitter.com/search?q=%E9%A2%A8%E9%96%93%E3%81%BD%E3%82%93\",\n",
      "    \"promoted_content\": null,\n",
      "    \"query\": \"%E9%A2%A8%E9%96%93%E3%81%BD%E3%82%93\",\n",
      "    \"tweet_volume\": null\n",
      "   },\n",
      "   {\n",
      "    \"name\": \"READY TO LOVE D1\",\n",
      "    \"url\": \"http://twitter.com/search?q=%22READY+TO+LOVE+D1%22\",\n",
      "    \"promoted_content\": null,\n",
      "    \"query\": \"%22READY+TO+LOVE+D1%22\",\n",
      "    \"tweet_volume\": 23416\n",
      "   },\n",
      "   {\n",
      "    \"name\": \"Ben White\",\n",
      "    \"url\": \"http://twitter.com/search?q=%22Ben+White%22\",\n",
      "    \"promoted_content\": null,\n",
      "    \"query\": \"%22Ben+White%22\",\n",
      "    \"tweet_volume\": null\n",
      "   },\n",
      "   {\n",
      "    \"name\": \"Juneteenth\",\n",
      "    \"url\": \"http://twitter.com/search?q=Juneteenth\",\n",
      "    \"promoted_content\": null,\n",
      "    \"query\": \"Juneteenth\",\n",
      "    \"tweet_volume\": 182181\n",
      "   },\n",
      "   {\n",
      "    \"name\": \"\\u4e8c\\u5bae\\u304f\\u3093\",\n",
      "    \"url\": \"http://twitter.com/search?q=%E4%BA%8C%E5%AE%AE%E3%81%8F%E3%82%93\",\n",
      "    \"promoted_content\": null,\n",
      "    \"query\": \"%E4%BA%8C%E5%AE%AE%E3%81%8F%E3%82%93\",\n",
      "    \"tweet_volume\": null\n",
      "   },\n",
      "   {\n",
      "    \"name\": \"Pelicans\",\n",
      "    \"url\": \"http://twitter.com/search?q=Pelicans\",\n",
      "    \"promoted_content\": null,\n",
      "    \"query\": \"Pelicans\",\n",
      "    \"tweet_volume\": 11405\n",
      "   },\n",
      "   {\n",
      "    \"name\": \"Galler\",\n",
      "    \"url\": \"http://twitter.com/search?q=Galler\",\n",
      "    \"promoted_content\": null,\n",
      "    \"query\": \"Galler\",\n",
      "    \"tweet_volume\": 28986\n",
      "   },\n",
      "   {\n",
      "    \"name\": \"Loki\",\n",
      "    \"url\": \"http://twitter.com/search?q=Loki\",\n",
      "    \"promoted_content\": null,\n",
      "    \"query\": \"Loki\",\n",
      "    \"tweet_volume\": 336831\n",
      "   },\n",
      "   {\n",
      "    \"name\": \"jeonghan\",\n",
      "    \"url\": \"http://twitter.com/search?q=jeonghan\",\n",
      "    \"promoted_content\": null,\n",
      "    \"query\": \"jeonghan\",\n",
      "    \"tweet_volume\": 74521\n",
      "   },\n",
      "   {\n",
      "    \"name\": \"Tupac\",\n",
      "    \"url\": \"http://twitter.com/search?q=Tupac\",\n",
      "    \"promoted_content\": null,\n",
      "    \"query\": \"Tupac\",\n",
      "    \"tweet_volume\": 43690\n",
      "   },\n",
      "   {\n",
      "    \"name\": \"iPhone 13\",\n",
      "    \"url\": \"http://twitter.com/search?q=%22iPhone+13%22\",\n",
      "    \"promoted_content\": null,\n",
      "    \"query\": \"%22iPhone+13%22\",\n",
      "    \"tweet_volume\": null\n",
      "   },\n",
      "   {\n",
      "    \"name\": \"Sushant An Inspiration\",\n",
      "    \"url\": \"http://twitter.com/search?q=%22Sushant+An+Inspiration%22\",\n",
      "    \"promoted_content\": null,\n",
      "    \"query\": \"%22Sushant+An+Inspiration%22\",\n",
      "    \"tweet_volume\": 28612\n",
      "   },\n",
      "   {\n",
      "    \"name\": \"\\u99ac\\u7528AV\",\n",
      "    \"url\": \"http://twitter.com/search?q=%E9%A6%AC%E7%94%A8AV\",\n",
      "    \"promoted_content\": null,\n",
      "    \"query\": \"%E9%A6%AC%E7%94%A8AV\",\n",
      "    \"tweet_volume\": null\n",
      "   },\n",
      "   {\n",
      "    \"name\": \"Alpine\",\n",
      "    \"url\": \"http://twitter.com/search?q=Alpine\",\n",
      "    \"promoted_content\": null,\n",
      "    \"query\": \"Alpine\",\n",
      "    \"tweet_volume\": null\n",
      "   },\n",
      "   {\n",
      "    \"name\": \"Ocon\",\n",
      "    \"url\": \"http://twitter.com/search?q=Ocon\",\n",
      "    \"promoted_content\": null,\n",
      "    \"query\": \"Ocon\",\n",
      "    \"tweet_volume\": null\n",
      "   },\n",
      "   {\n",
      "    \"name\": \"Plaza de Mayo\",\n",
      "    \"url\": \"http://twitter.com/search?q=%22Plaza+de+Mayo%22\",\n",
      "    \"promoted_content\": null,\n",
      "    \"query\": \"%22Plaza+de+Mayo%22\",\n",
      "    \"tweet_volume\": 19188\n",
      "   },\n",
      "   {\n",
      "    \"name\": \"\\u30cb\\u30ce\\u3061\\u3083\\u3093\",\n",
      "    \"url\": \"http://twitter.com/search?q=%E3%83%8B%E3%83%8E%E3%81%A1%E3%82%83%E3%82%93\",\n",
      "    \"promoted_content\": null,\n",
      "    \"query\": \"%E3%83%8B%E3%83%8E%E3%81%A1%E3%82%83%E3%82%93\",\n",
      "    \"tweet_volume\": null\n",
      "   },\n",
      "   {\n",
      "    \"name\": \"\\u3061\\u3083\\u3093\\u306d\\u308b\\u751f\\u914d\\u4fe1\",\n",
      "    \"url\": \"http://twitter.com/search?q=%E3%81%A1%E3%82%83%E3%82%93%E3%81%AD%E3%82%8B%E7%94%9F%E9%85%8D%E4%BF%A1\",\n",
      "    \"promoted_content\": null,\n",
      "    \"query\": \"%E3%81%A1%E3%82%83%E3%82%93%E3%81%AD%E3%82%8B%E7%94%9F%E9%85%8D%E4%BF%A1\",\n",
      "    \"tweet_volume\": null\n",
      "   },\n",
      "   {\n",
      "    \"name\": \"cheol\",\n",
      "    \"url\": \"http://twitter.com/search?q=cheol\",\n",
      "    \"promoted_content\": null,\n",
      "    \"query\": \"cheol\",\n",
      "    \"tweet_volume\": 32386\n",
      "   },\n",
      "   {\n",
      "    \"name\": \"Gabas\",\n",
      "    \"url\": \"http://twitter.com/search?q=Gabas\",\n",
      "    \"promoted_content\": null,\n",
      "    \"query\": \"Gabas\",\n",
      "    \"tweet_volume\": 42482\n",
      "   },\n",
      "   {\n",
      "    \"name\": \"#DisculpateABCCOLOR\",\n",
      "    \"url\": \"http://twitter.com/search?q=%23DisculpateABCCOLOR\",\n",
      "    \"promoted_content\": null,\n",
      "    \"query\": \"%23DisculpateABCCOLOR\",\n",
      "    \"tweet_volume\": 283549\n",
      "   },\n",
      "   {\n",
      "    \"name\": \"#200DaysWithENHYPEN\",\n",
      "    \"url\": \"http://twitter.com/search?q=%23200DaysWithENHYPEN\",\n",
      "    \"promoted_content\": null,\n",
      "    \"query\": \"%23200DaysWithENHYPEN\",\n",
      "    \"tweet_volume\": 71054\n",
      "   }\n",
      "  ],\n",
      "  \"as_of\": \"2021-06-16T16:29:31Z\",\n",
      "  \"created_at\": \"2021-06-13T14:49:31Z\",\n",
      "  \"locations\": [\n",
      "   {\n",
      "    \"name\": \"Worldwide\",\n",
      "    \"woeid\": 1\n",
      "   }\n",
      "  ]\n",
      " }\n",
      "]\n"
     ]
    }
   ],
   "source": [
    "import json\n",
    "print(json.dumps(world_trends, indent=1))"
   ]
  },
  {
   "cell_type": "code",
   "execution_count": 28,
   "metadata": {},
   "outputs": [
    {
     "name": "stdout",
     "output_type": "stream",
     "text": [
      "{'Tyler', 'Tupac', 'Pelicans', 'Ramsey', 'Stan Van Gundy', 'Kawhi', 'Juneteenth', 'Ben White', 'Scott Brooks', 'Putin', 'jay park'}\n"
     ]
    }
   ],
   "source": [
    "world_trends_set = set([trend['name'] for trend in world_trends[0]['trends']])\n",
    "\n",
    "us_trends_set = set([trend['name'] for trend in us_trends[0]['trends']])\n",
    "\n",
    "common_trends = world_trends_set.intersection(us_trends_set) \n",
    "\n",
    "print(common_trends)"
   ]
  },
  {
   "cell_type": "markdown",
   "metadata": {},
   "source": [
    "For more information on the Twitter search string API, see: \n",
    "\n",
    "https://dev.twitter.com/rest/reference/get/search/tweets"
   ]
  },
  {
   "cell_type": "code",
   "execution_count": 31,
   "metadata": {},
   "outputs": [
    {
     "name": "stdout",
     "output_type": "stream",
     "text": [
      "Length of statuses 100\n",
      "Length of statuses 200\n",
      "Length of statuses 300\n",
      "Length of statuses 400\n",
      "Length of statuses 500\n",
      "{\n",
      " \"created_at\": \"Wed Jun 16 17:45:53 +0000 2021\",\n",
      " \"id\": 1405220095060807681,\n",
      " \"id_str\": \"1405220095060807681\",\n",
      " \"text\": \"RT @rachelvscott: Our day started at 6am, with a Covid test ourside a hotel where Kremlin staff are staying.\\n\\nWe spotted protestors hanging\\u2026\",\n",
      " \"truncated\": false,\n",
      " \"entities\": {\n",
      "  \"hashtags\": [],\n",
      "  \"symbols\": [],\n",
      "  \"user_mentions\": [\n",
      "   {\n",
      "    \"screen_name\": \"rachelvscott\",\n",
      "    \"name\": \"Rachel Scott\",\n",
      "    \"id\": 88856085,\n",
      "    \"id_str\": \"88856085\",\n",
      "    \"indices\": [\n",
      "     3,\n",
      "     16\n",
      "    ]\n",
      "   }\n",
      "  ],\n",
      "  \"urls\": []\n",
      " },\n",
      " \"metadata\": {\n",
      "  \"iso_language_code\": \"en\",\n",
      "  \"result_type\": \"recent\"\n",
      " },\n",
      " \"source\": \"<a href=\\\"http://twitter.com/download/iphone\\\" rel=\\\"nofollow\\\">Twitter for iPhone</a>\",\n",
      " \"in_reply_to_status_id\": null,\n",
      " \"in_reply_to_status_id_str\": null,\n",
      " \"in_reply_to_user_id\": null,\n",
      " \"in_reply_to_user_id_str\": null,\n",
      " \"in_reply_to_screen_name\": null,\n",
      " \"user\": {\n",
      "  \"id\": 1284530148033859586,\n",
      "  \"id_str\": \"1284530148033859586\",\n",
      "  \"name\": \"Putin Is Not My Papi\",\n",
      "  \"screen_name\": \"putin_papi\",\n",
      "  \"location\": \"\",\n",
      "  \"description\": \"\",\n",
      "  \"url\": null,\n",
      "  \"entities\": {\n",
      "   \"description\": {\n",
      "    \"urls\": []\n",
      "   }\n",
      "  },\n",
      "  \"protected\": false,\n",
      "  \"followers_count\": 42,\n",
      "  \"friends_count\": 386,\n",
      "  \"listed_count\": 0,\n",
      "  \"created_at\": \"Sat Jul 18 16:47:14 +0000 2020\",\n",
      "  \"favourites_count\": 62166,\n",
      "  \"utc_offset\": null,\n",
      "  \"time_zone\": null,\n",
      "  \"geo_enabled\": false,\n",
      "  \"verified\": false,\n",
      "  \"statuses_count\": 36272,\n",
      "  \"lang\": null,\n",
      "  \"contributors_enabled\": false,\n",
      "  \"is_translator\": false,\n",
      "  \"is_translation_enabled\": false,\n",
      "  \"profile_background_color\": \"F5F8FA\",\n",
      "  \"profile_background_image_url\": null,\n",
      "  \"profile_background_image_url_https\": null,\n",
      "  \"profile_background_tile\": false,\n",
      "  \"profile_image_url\": \"http://pbs.twimg.com/profile_images/1284576428797952001/BgQS1w4g_normal.jpg\",\n",
      "  \"profile_image_url_https\": \"https://pbs.twimg.com/profile_images/1284576428797952001/BgQS1w4g_normal.jpg\",\n",
      "  \"profile_link_color\": \"1DA1F2\",\n",
      "  \"profile_sidebar_border_color\": \"C0DEED\",\n",
      "  \"profile_sidebar_fill_color\": \"DDEEF6\",\n",
      "  \"profile_text_color\": \"333333\",\n",
      "  \"profile_use_background_image\": true,\n",
      "  \"has_extended_profile\": true,\n",
      "  \"default_profile\": true,\n",
      "  \"default_profile_image\": false,\n",
      "  \"following\": false,\n",
      "  \"follow_request_sent\": false,\n",
      "  \"notifications\": false,\n",
      "  \"translator_type\": \"none\",\n",
      "  \"withheld_in_countries\": []\n",
      " },\n",
      " \"geo\": null,\n",
      " \"coordinates\": null,\n",
      " \"place\": null,\n",
      " \"contributors\": null,\n",
      " \"retweeted_status\": {\n",
      "  \"created_at\": \"Wed Jun 16 12:31:52 +0000 2021\",\n",
      "  \"id\": 1405141073010253827,\n",
      "  \"id_str\": \"1405141073010253827\",\n",
      "  \"text\": \"Our day started at 6am, with a Covid test ourside a hotel where Kremlin staff are staying.\\n\\nWe spotted protestors h\\u2026 https://t.co/imqrbnq4iv\",\n",
      "  \"truncated\": true,\n",
      "  \"entities\": {\n",
      "   \"hashtags\": [],\n",
      "   \"symbols\": [],\n",
      "   \"user_mentions\": [],\n",
      "   \"urls\": [\n",
      "    {\n",
      "     \"url\": \"https://t.co/imqrbnq4iv\",\n",
      "     \"expanded_url\": \"https://twitter.com/i/web/status/1405141073010253827\",\n",
      "     \"display_url\": \"twitter.com/i/web/status/1\\u2026\",\n",
      "     \"indices\": [\n",
      "      117,\n",
      "      140\n",
      "     ]\n",
      "    }\n",
      "   ]\n",
      "  },\n",
      "  \"metadata\": {\n",
      "   \"iso_language_code\": \"en\",\n",
      "   \"result_type\": \"recent\"\n",
      "  },\n",
      "  \"source\": \"<a href=\\\"http://twitter.com/download/iphone\\\" rel=\\\"nofollow\\\">Twitter for iPhone</a>\",\n",
      "  \"in_reply_to_status_id\": 1405140363078209542,\n",
      "  \"in_reply_to_status_id_str\": \"1405140363078209542\",\n",
      "  \"in_reply_to_user_id\": 88856085,\n",
      "  \"in_reply_to_user_id_str\": \"88856085\",\n",
      "  \"in_reply_to_screen_name\": \"rachelvscott\",\n",
      "  \"user\": {\n",
      "   \"id\": 88856085,\n",
      "   \"id_str\": \"88856085\",\n",
      "   \"name\": \"Rachel Scott\",\n",
      "   \"screen_name\": \"rachelvscott\",\n",
      "   \"location\": \"\",\n",
      "   \"description\": \"Congressional Correspondent for @ABC \\u2709\\ufe0fDM\\u2019s open. Academics courtesy of @USCAnnenberg.\",\n",
      "   \"url\": \"https://t.co/7mnR2AtpOn\",\n",
      "   \"entities\": {\n",
      "    \"url\": {\n",
      "     \"urls\": [\n",
      "      {\n",
      "       \"url\": \"https://t.co/7mnR2AtpOn\",\n",
      "       \"expanded_url\": \"http://abcnews.com\",\n",
      "       \"display_url\": \"abcnews.com\",\n",
      "       \"indices\": [\n",
      "        0,\n",
      "        23\n",
      "       ]\n",
      "      }\n",
      "     ]\n",
      "    },\n",
      "    \"description\": {\n",
      "     \"urls\": []\n",
      "    }\n",
      "   },\n",
      "   \"protected\": false,\n",
      "   \"followers_count\": 48027,\n",
      "   \"friends_count\": 1638,\n",
      "   \"listed_count\": 589,\n",
      "   \"created_at\": \"Tue Nov 10 05:04:01 +0000 2009\",\n",
      "   \"favourites_count\": 1893,\n",
      "   \"utc_offset\": null,\n",
      "   \"time_zone\": null,\n",
      "   \"geo_enabled\": true,\n",
      "   \"verified\": true,\n",
      "   \"statuses_count\": 318,\n",
      "   \"lang\": null,\n",
      "   \"contributors_enabled\": false,\n",
      "   \"is_translator\": false,\n",
      "   \"is_translation_enabled\": false,\n",
      "   \"profile_background_color\": \"000000\",\n",
      "   \"profile_background_image_url\": \"http://abs.twimg.com/images/themes/theme7/bg.gif\",\n",
      "   \"profile_background_image_url_https\": \"https://abs.twimg.com/images/themes/theme7/bg.gif\",\n",
      "   \"profile_background_tile\": false,\n",
      "   \"profile_image_url\": \"http://pbs.twimg.com/profile_images/1381740085561933825/I_3B1MSK_normal.jpg\",\n",
      "   \"profile_image_url_https\": \"https://pbs.twimg.com/profile_images/1381740085561933825/I_3B1MSK_normal.jpg\",\n",
      "   \"profile_banner_url\": \"https://pbs.twimg.com/profile_banners/88856085/1623094755\",\n",
      "   \"profile_link_color\": \"F58EA8\",\n",
      "   \"profile_sidebar_border_color\": \"000000\",\n",
      "   \"profile_sidebar_fill_color\": \"000000\",\n",
      "   \"profile_text_color\": \"000000\",\n",
      "   \"profile_use_background_image\": false,\n",
      "   \"has_extended_profile\": true,\n",
      "   \"default_profile\": false,\n",
      "   \"default_profile_image\": false,\n",
      "   \"following\": false,\n",
      "   \"follow_request_sent\": false,\n",
      "   \"notifications\": false,\n",
      "   \"translator_type\": \"none\",\n",
      "   \"withheld_in_countries\": []\n",
      "  },\n",
      "  \"geo\": null,\n",
      "  \"coordinates\": null,\n",
      "  \"place\": null,\n",
      "  \"contributors\": null,\n",
      "  \"is_quote_status\": false,\n",
      "  \"retweet_count\": 37,\n",
      "  \"favorite_count\": 208,\n",
      "  \"favorited\": false,\n",
      "  \"retweeted\": false,\n",
      "  \"possibly_sensitive\": false,\n",
      "  \"lang\": \"en\"\n",
      " },\n",
      " \"is_quote_status\": false,\n",
      " \"retweet_count\": 37,\n",
      " \"favorite_count\": 0,\n",
      " \"favorited\": false,\n",
      " \"retweeted\": false,\n",
      " \"lang\": \"en\"\n",
      "}\n"
     ]
    }
   ],
   "source": [
    "q = 'Putin' \n",
    "count = 100\n",
    "\n",
    "# Import unquote to prevent URL encoding errors in next_results\n",
    "from urllib.parse import unquote\n",
    "\n",
    "search_results = twitter_api.search.tweets(q=q, count=count) \n",
    "statuses = search_results['statuses']\n",
    "\n",
    "for _ in range(5):\n",
    "    print('Length of statuses', len(statuses)) \n",
    "    try:\n",
    "        next_results = search_results['search_metadata']['next_results']\n",
    "    except KeyError as e: # No more results when next_results doesn't exist\n",
    "        break\n",
    "# Create a dictionary from next_results, which has the following form:\n",
    "# ?max_id=847960489447628799&q=%23RIPSelena&count=100&include_enti ties=1\n",
    "\n",
    "    kwargs = dict([ kv.split('=') for kv in unquote(next_results[1:]). split(\"&\") ])\n",
    "    search_results = twitter_api.search.tweets(**kwargs) \n",
    "    statuses += search_results['statuses']\n",
    "\n",
    "# Show one sample search result by slicing the list...\n",
    "print(json.dumps(statuses[0], indent=1))\n"
   ]
  },
  {
   "cell_type": "code",
   "execution_count": 70,
   "metadata": {},
   "outputs": [],
   "source": [
    "with open('tweet_status.txt', 'w') as file:\n",
    "    file.write(json.dumps(statuses[0], indent=1))"
   ]
  },
  {
   "cell_type": "code",
   "execution_count": 37,
   "metadata": {},
   "outputs": [
    {
     "name": "stdout",
     "output_type": "stream",
     "text": [
      "1405220095060807681\n"
     ]
    }
   ],
   "source": [
    "print(statuses[0]['id'])"
   ]
  },
  {
   "cell_type": "code",
   "execution_count": 38,
   "metadata": {},
   "outputs": [
    {
     "name": "stdout",
     "output_type": "stream",
     "text": [
      "RT @rachelvscott: Our day started at 6am, with a Covid test ourside a hotel where Kremlin staff are staying.\n",
      "\n",
      "We spotted protestors hanging…\n"
     ]
    }
   ],
   "source": [
    "print(statuses[0]['text'])"
   ]
  },
  {
   "cell_type": "code",
   "execution_count": 40,
   "metadata": {},
   "outputs": [
    {
     "data": {
      "text/plain": [
       "{'hashtags': [],\n",
       " 'symbols': [],\n",
       " 'user_mentions': [{'screen_name': 'rachelvscott',\n",
       "   'name': 'Rachel Scott',\n",
       "   'id': 88856085,\n",
       "   'id_str': '88856085',\n",
       "   'indices': [3, 16]}],\n",
       " 'urls': []}"
      ]
     },
     "execution_count": 40,
     "metadata": {},
     "output_type": "execute_result"
    }
   ],
   "source": [
    "statuses[0]['entities']"
   ]
  },
  {
   "cell_type": "code",
   "execution_count": 44,
   "metadata": {},
   "outputs": [
    {
     "name": "stdout",
     "output_type": "stream",
     "text": [
      "This tweet has been favorited 0 times and retweeted 37 times.\n"
     ]
    }
   ],
   "source": [
    "print(f\"This tweet has been favorited {statuses[0]['favorite_count']} times \\\n",
    "and retweeted {statuses[0]['retweet_count']} times.\")"
   ]
  },
  {
   "cell_type": "code",
   "execution_count": 51,
   "metadata": {},
   "outputs": [
    {
     "data": {
      "text/plain": [
       "False"
      ]
     },
     "execution_count": 51,
     "metadata": {},
     "output_type": "execute_result"
    }
   ],
   "source": [
    "# And I expect this to return a yes/no (or T/F):\n",
    "statuses[0]['retweeted']"
   ]
  },
  {
   "cell_type": "code",
   "execution_count": 52,
   "metadata": {},
   "outputs": [
    {
     "name": "stdout",
     "output_type": "stream",
     "text": [
      "[\n",
      " \"RT @rachelvscott: Our day started at 6am, with a Covid test ourside a hotel where Kremlin staff are staying.\\n\\nWe spotted protestors hanging\\u2026\",\n",
      " \"RT @StevenBeschloss: When Republicans root for Putin over Biden, they are telling us what they think of democracy.\",\n",
      " \"RT @NatashaBertrand: POTUS reiterates that there is no substitute for face-to-face meetings, and says he told Putin \\\"my agenda is not again\\u2026\",\n",
      " \"@JoJoFromJerz I was thinking that today, it's nice to see an American president who doesn't look like a whipped dog\\u2026 https://t.co/wh4AyrUQq7\",\n",
      " \"@Breaking911 PUTIN DOESNT GIVE A FUCK YOU TOOL !!!!\"\n",
      "]\n",
      "[\n",
      " \"rachelvscott\",\n",
      " \"StevenBeschloss\",\n",
      " \"NatashaBertrand\",\n",
      " \"JoJoFromJerz\",\n",
      " \"Breaking911\"\n",
      "]\n",
      "[\n",
      " \"Putin\",\n",
      " \"Trump\",\n",
      " \"MSM\",\n",
      " \"Breaking\",\n",
      " \"Biden\"\n",
      "]\n",
      "[\n",
      " \"RT\",\n",
      " \"@rachelvscott:\",\n",
      " \"Our\",\n",
      " \"day\",\n",
      " \"started\"\n",
      "]\n"
     ]
    }
   ],
   "source": [
    "status_texts = [ status['text'] for status in statuses ]\n",
    "\n",
    "screen_names = [ user_mention['screen_name'] \n",
    "                for status in statuses \n",
    "                    for user_mention in status['entities']['user_mentions'] ]\n",
    "\n",
    "hashtags = [ hashtag['text']\n",
    "            for status in statuses\n",
    "                for hashtag in status['entities']['hashtags'] ]\n",
    "\n",
    "# Compute a collection of all words from all tweets\n",
    "words = [ w\n",
    "        for t in status_texts\n",
    "            for w in t.split() ]\n",
    "\n",
    "# Explore the first 5 items for each...\n",
    "print(json.dumps(status_texts[0:5], indent=1)) \n",
    "print(json.dumps(screen_names[0:5], indent=1)) \n",
    "print(json.dumps(hashtags[0:5], indent=1)) \n",
    "print(json.dumps(words[0:5], indent=1))\n"
   ]
  },
  {
   "cell_type": "markdown",
   "metadata": {},
   "source": [
    "Here's the code _Mining the Social Web_ offers:\n",
    "\n",
    "```python\n",
    "from collections import Counter\n",
    "\n",
    "for item in [words, screen_names, hashtags]: \n",
    "    c = Counter(item) \n",
    "    print(c.most_common()[:10]) # top 10 \n",
    "    print()\n",
    "```\n",
    "\n",
    "It strikes me that instead of using counters and then porting the data above into something more readable using `prettytable`, we should just use `pandas.` Now I just need to read up on how to do that …\n"
   ]
  },
  {
   "cell_type": "code",
   "execution_count": 63,
   "metadata": {},
   "outputs": [
    {
     "name": "stdout",
     "output_type": "stream",
     "text": [
      "['rt', '@rachelvscott:', 'our', 'day', 'started', 'at', '6am,', 'with', 'a', 'covid']\n"
     ]
    }
   ],
   "source": [
    "print([word.lower() for word in words[0:10]])"
   ]
  },
  {
   "cell_type": "code",
   "execution_count": 59,
   "metadata": {},
   "outputs": [],
   "source": [
    "import pandas as pd"
   ]
  },
  {
   "cell_type": "code",
   "execution_count": 60,
   "metadata": {},
   "outputs": [],
   "source": [
    "series = pd.Series(word.lower() for word in words)\n"
   ]
  },
  {
   "cell_type": "code",
   "execution_count": 67,
   "metadata": {},
   "outputs": [
    {
     "data": {
      "text/plain": [
       "rt           488\n",
       "putin        377\n",
       "the          326\n",
       "biden        255\n",
       "to           222\n",
       "is           179\n",
       "of           175\n",
       "president    168\n",
       "and          159\n",
       "a            154\n",
       "dtype: int64"
      ]
     },
     "execution_count": 67,
     "metadata": {},
     "output_type": "execute_result"
    }
   ],
   "source": [
    "counts = series.value_counts()\n",
    "counts.head(10)"
   ]
  },
  {
   "cell_type": "code",
   "execution_count": 79,
   "metadata": {},
   "outputs": [],
   "source": [
    "%matplotlib inline\n",
    "figsize(12, 6)"
   ]
  },
  {
   "cell_type": "code",
   "execution_count": 80,
   "metadata": {},
   "outputs": [
    {
     "data": {
      "text/plain": [
       "<AxesSubplot:>"
      ]
     },
     "execution_count": 80,
     "metadata": {},
     "output_type": "execute_result"
    },
    {
     "data": {
      "image/png": "[encoded data removed]",
      "text/plain": [
       "<Figure size 864x432 with 1 Axes>"
      ]
     },
     "metadata": {
      "needs_background": "light"
     },
     "output_type": "display_data"
    }
   ],
   "source": [
    "counts.iloc[0:49].plot(kind='bar')"
   ]
  },
  {
   "cell_type": "code",
   "execution_count": 68,
   "metadata": {},
   "outputs": [
    {
     "data": {
      "text/plain": [
       "putin               10\n",
       "russia               7\n",
       "biden                6\n",
       "breaking             4\n",
       "usa                  3\n",
       "russian              2\n",
       "bidenputinsummit     2\n",
       "breakingnews         2\n",
       "trump                2\n",
       "ahora                2\n",
       "dtype: int64"
      ]
     },
     "execution_count": 68,
     "metadata": {},
     "output_type": "execute_result"
    }
   ],
   "source": [
    "tags = pd.Series(tag.lower() for tag in hashtags)\n",
    "tag_count = tags.value_counts()\n",
    "tag_count.head(10)"
   ]
  },
  {
   "cell_type": "code",
   "execution_count": 73,
   "metadata": {},
   "outputs": [
    {
     "name": "stdout",
     "output_type": "stream",
     "text": [
      "(37, 'rachelvscott', 'RT @rachelvscott: Our day started at 6am, with a Covid test ourside a hotel where Kremlin staff are staying.\\n\\nWe spotted protestors hanging…')\n"
     ]
    }
   ],
   "source": [
    "retweets = [\n",
    "     # Store out a tuple of these three values...\n",
    "    (status['retweet_count'], \n",
    "    status['retweeted_status']['user']['screen_name'], \n",
    "    status['text'])\n",
    "    \n",
    "    # ... for each status...\n",
    "    for status in statuses\n",
    "\n",
    "    # ... so long as the status meets this condition\n",
    "        if 'retweeted_status' in status.keys() ]\n",
    "\n",
    "# print(retweets[0])\n",
    "        "
   ]
  },
  {
   "cell_type": "code",
   "execution_count": 78,
   "metadata": {},
   "outputs": [
    {
     "data": {
      "text/html": [
       "<div>\n",
       "<style scoped>\n",
       "    .dataframe tbody tr th:only-of-type {\n",
       "        vertical-align: middle;\n",
       "    }\n",
       "\n",
       "    .dataframe tbody tr th {\n",
       "        vertical-align: top;\n",
       "    }\n",
       "\n",
       "    .dataframe thead th {\n",
       "        text-align: right;\n",
       "    }\n",
       "</style>\n",
       "<table border=\"1\" class=\"dataframe\">\n",
       "  <thead>\n",
       "    <tr style=\"text-align: right;\">\n",
       "      <th></th>\n",
       "      <th>count</th>\n",
       "      <th>username</th>\n",
       "      <th>text</th>\n",
       "    </tr>\n",
       "  </thead>\n",
       "  <tbody>\n",
       "    <tr>\n",
       "      <th>0</th>\n",
       "      <td>37</td>\n",
       "      <td>rachelvscott</td>\n",
       "      <td>RT @rachelvscott: Our day started at 6am, with...</td>\n",
       "    </tr>\n",
       "    <tr>\n",
       "      <th>1</th>\n",
       "      <td>1693</td>\n",
       "      <td>StevenBeschloss</td>\n",
       "      <td>RT @StevenBeschloss: When Republicans root for...</td>\n",
       "    </tr>\n",
       "    <tr>\n",
       "      <th>2</th>\n",
       "      <td>115</td>\n",
       "      <td>NatashaBertrand</td>\n",
       "      <td>RT @NatashaBertrand: POTUS reiterates that the...</td>\n",
       "    </tr>\n",
       "    <tr>\n",
       "      <th>3</th>\n",
       "      <td>41</td>\n",
       "      <td>zei_squirrel</td>\n",
       "      <td>RT @zei_squirrel: if you're a US journalist wh...</td>\n",
       "    </tr>\n",
       "    <tr>\n",
       "      <th>4</th>\n",
       "      <td>36</td>\n",
       "      <td>mmpadellan</td>\n",
       "      <td>RT @mmpadellan: Boy, the GOP flag-wavers on th...</td>\n",
       "    </tr>\n",
       "    <tr>\n",
       "      <th>5</th>\n",
       "      <td>702</td>\n",
       "      <td>RichardGrenell</td>\n",
       "      <td>RT @RichardGrenell: Putin is using the Democra...</td>\n",
       "    </tr>\n",
       "    <tr>\n",
       "      <th>6</th>\n",
       "      <td>87</td>\n",
       "      <td>richardhine</td>\n",
       "      <td>RT @richardhine: Republicans will still be tal...</td>\n",
       "    </tr>\n",
       "    <tr>\n",
       "      <th>7</th>\n",
       "      <td>837</td>\n",
       "      <td>mehdirhasan</td>\n",
       "      <td>RT @mehdirhasan: Random fact of the day: Vladi...</td>\n",
       "    </tr>\n",
       "    <tr>\n",
       "      <th>8</th>\n",
       "      <td>1522</td>\n",
       "      <td>RichardGrenell</td>\n",
       "      <td>RT @RichardGrenell: Guess who brought flash ca...</td>\n",
       "    </tr>\n",
       "    <tr>\n",
       "      <th>9</th>\n",
       "      <td>837</td>\n",
       "      <td>mehdirhasan</td>\n",
       "      <td>RT @mehdirhasan: Random fact of the day: Vladi...</td>\n",
       "    </tr>\n",
       "  </tbody>\n",
       "</table>\n",
       "</div>"
      ],
      "text/plain": [
       "   count         username                                               text\n",
       "0     37     rachelvscott  RT @rachelvscott: Our day started at 6am, with...\n",
       "1   1693  StevenBeschloss  RT @StevenBeschloss: When Republicans root for...\n",
       "2    115  NatashaBertrand  RT @NatashaBertrand: POTUS reiterates that the...\n",
       "3     41     zei_squirrel  RT @zei_squirrel: if you're a US journalist wh...\n",
       "4     36       mmpadellan  RT @mmpadellan: Boy, the GOP flag-wavers on th...\n",
       "5    702   RichardGrenell  RT @RichardGrenell: Putin is using the Democra...\n",
       "6     87      richardhine  RT @richardhine: Republicans will still be tal...\n",
       "7    837      mehdirhasan  RT @mehdirhasan: Random fact of the day: Vladi...\n",
       "8   1522   RichardGrenell  RT @RichardGrenell: Guess who brought flash ca...\n",
       "9    837      mehdirhasan  RT @mehdirhasan: Random fact of the day: Vladi..."
      ]
     },
     "execution_count": 78,
     "metadata": {},
     "output_type": "execute_result"
    }
   ],
   "source": [
    "columns = ['count', 'username', 'text']\n",
    "df = pd.DataFrame(retweets, columns = columns)\n",
    "df.head(10)"
   ]
  },
  {
   "cell_type": "code",
   "execution_count": null,
   "metadata": {},
   "outputs": [],
   "source": []
  }
 ],
 "metadata": {
  "interpreter": {
   "hash": "14a02b88778d8fb8b6aeb4ad427a942bc53dfcda9d7e3737237788289e0d2d23"
  },
  "kernelspec": {
   "display_name": "Python 3.8.5 64-bit ('dev': conda)",
   "name": "python3"
  },
  "language_info": {
   "codemirror_mode": {
    "name": "ipython",
    "version": 3
   },
   "file_extension": ".py",
   "mimetype": "text/x-python",
   "name": "python",
   "nbconvert_exporter": "python",
   "pygments_lexer": "ipython3",
   "version": "3.8.5"
  },
  "orig_nbformat": 4
 },
 "nbformat": 4,
 "nbformat_minor": 2
}